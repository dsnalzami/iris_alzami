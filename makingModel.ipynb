{
 "cells": [
  {
   "cell_type": "code",
   "execution_count": 1,
   "metadata": {},
   "outputs": [],
   "source": [
    "import numpy as np\n",
    "import pandas as pd \n",
    "from pandas import Series, DataFrame\n",
    "\n",
    "import seaborn as sns\n",
    "import matplotlib.pyplot as plt\n",
    "%matplotlib inline"
   ]
  },
  {
   "cell_type": "code",
   "execution_count": 2,
   "metadata": {},
   "outputs": [],
   "source": [
    "iris = pd.read_csv(\"Iris.csv\")"
   ]
  },
  {
   "cell_type": "code",
   "execution_count": 4,
   "metadata": {},
   "outputs": [
    {
     "name": "stdout",
     "output_type": "stream",
     "text": [
      "<class 'pandas.core.frame.DataFrame'>\n",
      "RangeIndex: 150 entries, 0 to 149\n",
      "Data columns (total 5 columns):\n",
      " #   Column        Non-Null Count  Dtype  \n",
      "---  ------        --------------  -----  \n",
      " 0   sepal.length  150 non-null    float64\n",
      " 1   sepal.width   150 non-null    float64\n",
      " 2   petal.length  150 non-null    float64\n",
      " 3   petal.width   150 non-null    float64\n",
      " 4   variety       150 non-null    object \n",
      "dtypes: float64(4), object(1)\n",
      "memory usage: 6.0+ KB\n"
     ]
    }
   ],
   "source": [
    "iris.info()"
   ]
  },
  {
   "cell_type": "code",
   "execution_count": 5,
   "metadata": {},
   "outputs": [
    {
     "data": {
      "text/html": [
       "<div>\n",
       "<style scoped>\n",
       "    .dataframe tbody tr th:only-of-type {\n",
       "        vertical-align: middle;\n",
       "    }\n",
       "\n",
       "    .dataframe tbody tr th {\n",
       "        vertical-align: top;\n",
       "    }\n",
       "\n",
       "    .dataframe thead th {\n",
       "        text-align: right;\n",
       "    }\n",
       "</style>\n",
       "<table border=\"1\" class=\"dataframe\">\n",
       "  <thead>\n",
       "    <tr style=\"text-align: right;\">\n",
       "      <th></th>\n",
       "      <th>sepal.length</th>\n",
       "      <th>sepal.width</th>\n",
       "      <th>petal.length</th>\n",
       "      <th>petal.width</th>\n",
       "      <th>variety</th>\n",
       "    </tr>\n",
       "  </thead>\n",
       "  <tbody>\n",
       "    <tr>\n",
       "      <th>0</th>\n",
       "      <td>5.1</td>\n",
       "      <td>3.5</td>\n",
       "      <td>1.4</td>\n",
       "      <td>0.2</td>\n",
       "      <td>Setosa</td>\n",
       "    </tr>\n",
       "    <tr>\n",
       "      <th>1</th>\n",
       "      <td>4.9</td>\n",
       "      <td>3.0</td>\n",
       "      <td>1.4</td>\n",
       "      <td>0.2</td>\n",
       "      <td>Setosa</td>\n",
       "    </tr>\n",
       "    <tr>\n",
       "      <th>2</th>\n",
       "      <td>4.7</td>\n",
       "      <td>3.2</td>\n",
       "      <td>1.3</td>\n",
       "      <td>0.2</td>\n",
       "      <td>Setosa</td>\n",
       "    </tr>\n",
       "    <tr>\n",
       "      <th>3</th>\n",
       "      <td>4.6</td>\n",
       "      <td>3.1</td>\n",
       "      <td>1.5</td>\n",
       "      <td>0.2</td>\n",
       "      <td>Setosa</td>\n",
       "    </tr>\n",
       "    <tr>\n",
       "      <th>4</th>\n",
       "      <td>5.0</td>\n",
       "      <td>3.6</td>\n",
       "      <td>1.4</td>\n",
       "      <td>0.2</td>\n",
       "      <td>Setosa</td>\n",
       "    </tr>\n",
       "  </tbody>\n",
       "</table>\n",
       "</div>"
      ],
      "text/plain": [
       "   sepal.length  sepal.width  petal.length  petal.width variety\n",
       "0           5.1          3.5           1.4          0.2  Setosa\n",
       "1           4.9          3.0           1.4          0.2  Setosa\n",
       "2           4.7          3.2           1.3          0.2  Setosa\n",
       "3           4.6          3.1           1.5          0.2  Setosa\n",
       "4           5.0          3.6           1.4          0.2  Setosa"
      ]
     },
     "execution_count": 5,
     "metadata": {},
     "output_type": "execute_result"
    }
   ],
   "source": [
    "iris.head()"
   ]
  },
  {
   "cell_type": "code",
   "execution_count": 6,
   "metadata": {},
   "outputs": [],
   "source": [
    "X = iris[['sepal.length','sepal.width','petal.length','petal.width']]"
   ]
  },
  {
   "cell_type": "code",
   "execution_count": 7,
   "metadata": {},
   "outputs": [],
   "source": [
    "Y = iris.variety"
   ]
  },
  {
   "cell_type": "code",
   "execution_count": 8,
   "metadata": {},
   "outputs": [],
   "source": [
    "from sklearn.model_selection import train_test_split"
   ]
  },
  {
   "cell_type": "code",
   "execution_count": 9,
   "metadata": {},
   "outputs": [],
   "source": [
    "X_train, X_test, Y_train, Y_test = train_test_split(X, Y, test_size=0.3, random_state=7)"
   ]
  },
  {
   "cell_type": "code",
   "execution_count": 10,
   "metadata": {},
   "outputs": [],
   "source": [
    "from sklearn.ensemble import RandomForestClassifier"
   ]
  },
  {
   "cell_type": "code",
   "execution_count": 11,
   "metadata": {},
   "outputs": [],
   "source": [
    "param_grid = { \n",
    "    'n_estimators': [100, 200, 500],\n",
    "    'max_features': ['auto', 'sqrt', 'log2'],\n",
    "    'max_depth' : [4,5,6,7,8],\n",
    "    'criterion' :['gini', 'entropy']\n",
    "}"
   ]
  },
  {
   "cell_type": "code",
   "execution_count": 12,
   "metadata": {},
   "outputs": [],
   "source": [
    "rfc=RandomForestClassifier(random_state=42)\n",
    "from sklearn.model_selection import GridSearchCV\n",
    "CV_rfc = GridSearchCV(estimator=rfc, param_grid=param_grid, cv= 3, n_jobs=-1)"
   ]
  },
  {
   "cell_type": "code",
   "execution_count": 13,
   "metadata": {},
   "outputs": [
    {
     "data": {
      "text/plain": [
       "GridSearchCV(cv=3, error_score=nan,\n",
       "             estimator=RandomForestClassifier(bootstrap=True, ccp_alpha=0.0,\n",
       "                                              class_weight=None,\n",
       "                                              criterion='gini', max_depth=None,\n",
       "                                              max_features='auto',\n",
       "                                              max_leaf_nodes=None,\n",
       "                                              max_samples=None,\n",
       "                                              min_impurity_decrease=0.0,\n",
       "                                              min_impurity_split=None,\n",
       "                                              min_samples_leaf=1,\n",
       "                                              min_samples_split=2,\n",
       "                                              min_weight_fraction_leaf=0.0,\n",
       "                                              n_estimators=100, n_jobs=None,\n",
       "                                              oob_score=False, random_state=42,\n",
       "                                              verbose=0, warm_start=False),\n",
       "             iid='deprecated', n_jobs=-1,\n",
       "             param_grid={'criterion': ['gini', 'entropy'],\n",
       "                         'max_depth': [4, 5, 6, 7, 8],\n",
       "                         'max_features': ['auto', 'sqrt', 'log2'],\n",
       "                         'n_estimators': [100, 200, 500]},\n",
       "             pre_dispatch='2*n_jobs', refit=True, return_train_score=False,\n",
       "             scoring=None, verbose=0)"
      ]
     },
     "execution_count": 13,
     "metadata": {},
     "output_type": "execute_result"
    }
   ],
   "source": [
    "CV_rfc.fit(X_train, Y_train)"
   ]
  },
  {
   "cell_type": "code",
   "execution_count": 14,
   "metadata": {},
   "outputs": [
    {
     "name": "stdout",
     "output_type": "stream",
     "text": [
      "\n",
      "Best estimator:\n",
      "\n",
      "RandomForestClassifier(bootstrap=True, ccp_alpha=0.0, class_weight=None,\n",
      "                       criterion='gini', max_depth=4, max_features='auto',\n",
      "                       max_leaf_nodes=None, max_samples=None,\n",
      "                       min_impurity_decrease=0.0, min_impurity_split=None,\n",
      "                       min_samples_leaf=1, min_samples_split=2,\n",
      "                       min_weight_fraction_leaf=0.0, n_estimators=100,\n",
      "                       n_jobs=None, oob_score=False, random_state=42, verbose=0,\n",
      "                       warm_start=False)\n"
     ]
    }
   ],
   "source": [
    "print(\"\\nBest estimator:\")\n",
    "print()\n",
    "print(CV_rfc.best_estimator_)"
   ]
  },
  {
   "cell_type": "code",
   "execution_count": 15,
   "metadata": {},
   "outputs": [],
   "source": [
    "rfc2 = CV_rfc.best_estimator_"
   ]
  },
  {
   "cell_type": "code",
   "execution_count": 16,
   "metadata": {},
   "outputs": [],
   "source": [
    "yprf_pred = rfc2.predict(X_test)"
   ]
  },
  {
   "cell_type": "code",
   "execution_count": 17,
   "metadata": {},
   "outputs": [
    {
     "data": {
      "text/plain": [
       "pandas.core.series.Series"
      ]
     },
     "execution_count": 17,
     "metadata": {},
     "output_type": "execute_result"
    }
   ],
   "source": [
    "type(Y_test)"
   ]
  },
  {
   "cell_type": "code",
   "execution_count": 18,
   "metadata": {},
   "outputs": [],
   "source": [
    "Y_test_numpy = Y_test.to_numpy()"
   ]
  },
  {
   "cell_type": "code",
   "execution_count": 19,
   "metadata": {},
   "outputs": [
    {
     "data": {
      "text/plain": [
       "numpy.ndarray"
      ]
     },
     "execution_count": 19,
     "metadata": {},
     "output_type": "execute_result"
    }
   ],
   "source": [
    "type(Y_test_numpy)"
   ]
  },
  {
   "cell_type": "code",
   "execution_count": 20,
   "metadata": {},
   "outputs": [
    {
     "name": "stdout",
     "output_type": "stream",
     "text": [
      "Predict          Setosa           Versicolor       Virginica        \n",
      "Actual\n",
      "Setosa           12               0                0                \n",
      "\n",
      "Versicolor       0                14               2                \n",
      "\n",
      "Virginica        0                2                15               \n",
      "\n",
      "\n",
      "\n",
      "\n",
      "\n",
      "Overall Statistics : \n",
      "\n",
      "95% CI                                                            (0.82796,0.99426)\n",
      "ACC Macro                                                         0.94074\n",
      "ARI                                                               0.73305\n",
      "AUNP                                                              0.9298\n",
      "AUNU                                                              0.93616\n",
      "Bennett S                                                         0.86667\n",
      "CBA                                                               0.91912\n",
      "CSI                                                               0.83824\n",
      "Chi-Squared                                                       70.81126\n",
      "Chi-Squared DF                                                    4\n",
      "Conditional Entropy                                               0.39068\n",
      "Cramer V                                                          0.88701\n",
      "Cross Entropy                                                     1.56949\n",
      "F1 Macro                                                          0.91912\n",
      "F1 Micro                                                          0.91111\n",
      "FNR Macro                                                         0.08088\n",
      "FNR Micro                                                         0.08889\n",
      "FPR Macro                                                         0.0468\n",
      "FPR Micro                                                         0.04444\n",
      "Gwet AC1                                                          0.86735\n",
      "Hamming Loss                                                      0.08889\n",
      "Joint Entropy                                                     1.96017\n",
      "KL Divergence                                                     0.0\n",
      "Kappa                                                             0.86527\n",
      "Kappa 95% CI                                                      (0.73924,0.9913)\n",
      "Kappa No Prevalence                                               0.82222\n",
      "Kappa Standard Error                                              0.0643\n",
      "Kappa Unbiased                                                    0.86527\n",
      "Lambda A                                                          0.85714\n",
      "Lambda B                                                          0.85714\n",
      "Mutual Information                                                1.17881\n",
      "NIR                                                               0.37778\n",
      "Overall ACC                                                       0.91111\n",
      "Overall CEN                                                       0.17972\n",
      "Overall J                                                         (2.56725,0.85575)\n",
      "Overall MCC                                                       0.86527\n",
      "Overall MCEN                                                      0.26195\n",
      "Overall RACC                                                      0.34025\n",
      "Overall RACCU                                                     0.34025\n",
      "P-Value                                                           0.0\n",
      "PPV Macro                                                         0.91912\n",
      "PPV Micro                                                         0.91111\n",
      "Pearson C                                                         0.78194\n",
      "Phi-Squared                                                       1.57358\n",
      "RCI                                                               0.75108\n",
      "RR                                                                15.0\n",
      "Reference Entropy                                                 1.56949\n",
      "Response Entropy                                                  1.56949\n",
      "SOA1(Landis & Koch)                                               Almost Perfect\n",
      "SOA2(Fleiss)                                                      Excellent\n",
      "SOA3(Altman)                                                      Very Good\n",
      "SOA4(Cicchetti)                                                   Excellent\n",
      "SOA5(Cramer)                                                      Very Strong\n",
      "SOA6(Matthews)                                                    Strong\n",
      "Scott PI                                                          0.86527\n",
      "Standard Error                                                    0.04242\n",
      "TNR Macro                                                         0.9532\n",
      "TNR Micro                                                         0.95556\n",
      "TPR Macro                                                         0.91912\n",
      "TPR Micro                                                         0.91111\n",
      "Zero-one Loss                                                     4\n",
      "\n",
      "Class Statistics :\n",
      "\n",
      "Classes                                                           Setosa         Versicolor     Virginica      \n",
      "ACC(Accuracy)                                                     1.0            0.91111        0.91111        \n",
      "AGF(Adjusted F-score)                                             1.0            0.90258        0.90517        \n",
      "AGM(Adjusted geometric mean)                                      1.0            0.91373        0.91414        \n",
      "AM(Difference between automatic and manual classification)        0              0              0              \n",
      "AUC(Area under the ROC curve)                                     1.0            0.90302        0.90546        \n",
      "AUCI(AUC value interpretation)                                    Excellent      Excellent      Excellent      \n",
      "AUPR(Area under the PR curve)                                     1.0            0.875          0.88235        \n",
      "BCD(Bray-Curtis dissimilarity)                                    0.0            0.0            0.0            \n",
      "BM(Informedness or bookmaker informedness)                        1.0            0.80603        0.81092        \n",
      "CEN(Confusion entropy)                                            0              0.25           0.24044        \n",
      "DOR(Diagnostic odds ratio)                                        None           94.5           97.5           \n",
      "DP(Discriminant power)                                            None           1.08911        1.0966         \n",
      "DPI(Discriminant power interpretation)                            None           Limited        Limited        \n",
      "ERR(Error rate)                                                   0.0            0.08889        0.08889        \n",
      "F0.5(F0.5 score)                                                  1.0            0.875          0.88235        \n",
      "F1(F1 score - harmonic mean of precision and sensitivity)         1.0            0.875          0.88235        \n",
      "F2(F2 score)                                                      1.0            0.875          0.88235        \n",
      "FDR(False discovery rate)                                         0.0            0.125          0.11765        \n",
      "FN(False negative/miss/type 2 error)                              0              2              2              \n",
      "FNR(Miss rate or false negative rate)                             0.0            0.125          0.11765        \n",
      "FOR(False omission rate)                                          0.0            0.06897        0.07143        \n",
      "FP(False positive/type 1 error/false alarm)                       0              2              2              \n",
      "FPR(Fall-out or false positive rate)                              0.0            0.06897        0.07143        \n",
      "G(G-measure geometric mean of precision and sensitivity)          1.0            0.875          0.88235        \n",
      "GI(Gini index)                                                    1.0            0.80603        0.81092        \n",
      "GM(G-mean geometric mean of specificity and sensitivity)          1.0            0.90258        0.90517        \n",
      "IBA(Index of balanced accuracy)                                   1.0            0.76901        0.78146        \n",
      "ICSI(Individual classification success index)                     1.0            0.75           0.76471        \n",
      "IS(Information score)                                             1.90689        1.29921        1.22382        \n",
      "J(Jaccard index)                                                  1.0            0.77778        0.78947        \n",
      "LS(Lift score)                                                    3.75           2.46094        2.33564        \n",
      "MCC(Matthews correlation coefficient)                             1.0            0.80603        0.81092        \n",
      "MCCI(Matthews correlation coefficient interpretation)             Very Strong    Strong         Strong         \n",
      "MCEN(Modified confusion entropy)                                  0              0.35221        0.34189        \n",
      "MK(Markedness)                                                    1.0            0.80603        0.81092        \n",
      "N(Condition negative)                                             33             29             28             \n",
      "NLR(Negative likelihood ratio)                                    0.0            0.13426        0.1267         \n",
      "NLRI(Negative likelihood ratio interpretation)                    Good           Fair           Fair           \n",
      "NPV(Negative predictive value)                                    1.0            0.93103        0.92857        \n",
      "OC(Overlap coefficient)                                           1.0            0.875          0.88235        \n",
      "OOC(Otsuka-Ochiai coefficient)                                    1.0            0.875          0.88235        \n",
      "OP(Optimized precision)                                           1.0            0.88008        0.88559        \n",
      "P(Condition positive or support)                                  12             16             17             \n",
      "PLR(Positive likelihood ratio)                                    None           12.6875        12.35294       \n",
      "PLRI(Positive likelihood ratio interpretation)                    None           Good           Good           \n",
      "POP(Population)                                                   45             45             45             \n",
      "PPV(Precision or positive predictive value)                       1.0            0.875          0.88235        \n",
      "PRE(Prevalence)                                                   0.26667        0.35556        0.37778        \n",
      "Q(Yule Q - coefficient of colligation)                            None           0.97906        0.9797         \n",
      "QI(Yule Q interpretation)                                         None           Strong         Strong         \n",
      "RACC(Random accuracy)                                             0.07111        0.12642        0.14272        \n",
      "RACCU(Random accuracy unbiased)                                   0.07111        0.12642        0.14272        \n",
      "TN(True negative/correct rejection)                               33             27             26             \n",
      "TNR(Specificity or true negative rate)                            1.0            0.93103        0.92857        \n",
      "TON(Test outcome negative)                                        33             29             28             \n",
      "TOP(Test outcome positive)                                        12             16             17             \n",
      "TP(True positive/hit)                                             12             14             15             \n",
      "TPR(Sensitivity, recall, hit rate, or true positive rate)         1.0            0.875          0.88235        \n",
      "Y(Youden index)                                                   1.0            0.80603        0.81092        \n",
      "dInd(Distance index)                                              0.0            0.14276        0.13763        \n",
      "sInd(Similarity index)                                            1.0            0.89905        0.90268        \n",
      "\n"
     ]
    }
   ],
   "source": [
    "from pycm import *\n",
    "cm = ConfusionMatrix(actual_vector=Y_test_numpy, predict_vector=yprf_pred)\n",
    "print(cm)"
   ]
  },
  {
   "cell_type": "markdown",
   "metadata": {},
   "source": [
    "**test if overfitting**"
   ]
  },
  {
   "cell_type": "code",
   "execution_count": 21,
   "metadata": {},
   "outputs": [],
   "source": [
    "is_overfitting = rfc2.predict(X_train)"
   ]
  },
  {
   "cell_type": "code",
   "execution_count": 22,
   "metadata": {},
   "outputs": [],
   "source": [
    "Y_train_numpy = Y_train.to_numpy()"
   ]
  },
  {
   "cell_type": "code",
   "execution_count": 23,
   "metadata": {},
   "outputs": [
    {
     "name": "stdout",
     "output_type": "stream",
     "text": [
      "Predict          Setosa           Versicolor       Virginica        \n",
      "Actual\n",
      "Setosa           38               0                0                \n",
      "\n",
      "Versicolor       0                34               0                \n",
      "\n",
      "Virginica        0                0                33               \n",
      "\n",
      "\n",
      "\n",
      "\n",
      "\n",
      "Overall Statistics : \n",
      "\n",
      "95% CI                                                            (1.0,1.0)\n",
      "ACC Macro                                                         1.0\n",
      "ARI                                                               1.0\n",
      "AUNP                                                              1.0\n",
      "AUNU                                                              1.0\n",
      "Bennett S                                                         1.0\n",
      "CBA                                                               1.0\n",
      "CSI                                                               1.0\n",
      "Chi-Squared                                                       210.0\n",
      "Chi-Squared DF                                                    4\n",
      "Conditional Entropy                                               -0.0\n",
      "Cramer V                                                          1.0\n",
      "Cross Entropy                                                     1.58225\n",
      "F1 Macro                                                          1.0\n",
      "F1 Micro                                                          1.0\n",
      "FNR Macro                                                         0.0\n",
      "FNR Micro                                                         0.0\n",
      "FPR Macro                                                         0.0\n",
      "FPR Micro                                                         0.0\n",
      "Gwet AC1                                                          1.0\n",
      "Hamming Loss                                                      0.0\n",
      "Joint Entropy                                                     1.58225\n",
      "KL Divergence                                                     0.0\n",
      "Kappa                                                             1.0\n",
      "Kappa 95% CI                                                      (1.0,1.0)\n",
      "Kappa No Prevalence                                               1.0\n",
      "Kappa Standard Error                                              0.0\n",
      "Kappa Unbiased                                                    1.0\n",
      "Lambda A                                                          1.0\n",
      "Lambda B                                                          1.0\n",
      "Mutual Information                                                1.58225\n",
      "NIR                                                               0.3619\n",
      "Overall ACC                                                       1.0\n",
      "Overall CEN                                                       0.0\n",
      "Overall J                                                         (3.0,1.0)\n",
      "Overall MCC                                                       1.0\n",
      "Overall MCEN                                                      0.0\n",
      "Overall RACC                                                      0.3346\n",
      "Overall RACCU                                                     0.3346\n",
      "P-Value                                                           0.0\n",
      "PPV Macro                                                         1.0\n",
      "PPV Micro                                                         1.0\n",
      "Pearson C                                                         0.8165\n",
      "Phi-Squared                                                       2.0\n",
      "RCI                                                               1.0\n",
      "RR                                                                35.0\n",
      "Reference Entropy                                                 1.58225\n",
      "Response Entropy                                                  1.58225\n",
      "SOA1(Landis & Koch)                                               Almost Perfect\n",
      "SOA2(Fleiss)                                                      Excellent\n",
      "SOA3(Altman)                                                      Very Good\n",
      "SOA4(Cicchetti)                                                   Excellent\n",
      "SOA5(Cramer)                                                      Very Strong\n",
      "SOA6(Matthews)                                                    Very Strong\n",
      "Scott PI                                                          1.0\n",
      "Standard Error                                                    0.0\n",
      "TNR Macro                                                         1.0\n",
      "TNR Micro                                                         1.0\n",
      "TPR Macro                                                         1.0\n",
      "TPR Micro                                                         1.0\n",
      "Zero-one Loss                                                     0\n",
      "\n",
      "Class Statistics :\n",
      "\n",
      "Classes                                                           Setosa         Versicolor     Virginica      \n",
      "ACC(Accuracy)                                                     1.0            1.0            1.0            \n",
      "AGF(Adjusted F-score)                                             1.0            1.0            1.0            \n",
      "AGM(Adjusted geometric mean)                                      1.0            1.0            1.0            \n",
      "AM(Difference between automatic and manual classification)        0              0              0              \n",
      "AUC(Area under the ROC curve)                                     1.0            1.0            1.0            \n",
      "AUCI(AUC value interpretation)                                    Excellent      Excellent      Excellent      \n",
      "AUPR(Area under the PR curve)                                     1.0            1.0            1.0            \n",
      "BCD(Bray-Curtis dissimilarity)                                    0.0            0.0            0.0            \n",
      "BM(Informedness or bookmaker informedness)                        1.0            1.0            1.0            \n",
      "CEN(Confusion entropy)                                            0              0              0              \n",
      "DOR(Diagnostic odds ratio)                                        None           None           None           \n",
      "DP(Discriminant power)                                            None           None           None           \n",
      "DPI(Discriminant power interpretation)                            None           None           None           \n",
      "ERR(Error rate)                                                   0.0            0.0            0.0            \n",
      "F0.5(F0.5 score)                                                  1.0            1.0            1.0            \n",
      "F1(F1 score - harmonic mean of precision and sensitivity)         1.0            1.0            1.0            \n",
      "F2(F2 score)                                                      1.0            1.0            1.0            \n",
      "FDR(False discovery rate)                                         0.0            0.0            0.0            \n",
      "FN(False negative/miss/type 2 error)                              0              0              0              \n",
      "FNR(Miss rate or false negative rate)                             0.0            0.0            0.0            \n",
      "FOR(False omission rate)                                          0.0            0.0            0.0            \n",
      "FP(False positive/type 1 error/false alarm)                       0              0              0              \n",
      "FPR(Fall-out or false positive rate)                              0.0            0.0            0.0            \n",
      "G(G-measure geometric mean of precision and sensitivity)          1.0            1.0            1.0            \n",
      "GI(Gini index)                                                    1.0            1.0            1.0            \n",
      "GM(G-mean geometric mean of specificity and sensitivity)          1.0            1.0            1.0            \n",
      "IBA(Index of balanced accuracy)                                   1.0            1.0            1.0            \n",
      "ICSI(Individual classification success index)                     1.0            1.0            1.0            \n",
      "IS(Information score)                                             1.46632        1.62678        1.66985        \n",
      "J(Jaccard index)                                                  1.0            1.0            1.0            \n",
      "LS(Lift score)                                                    2.76316        3.08824        3.18182        \n",
      "MCC(Matthews correlation coefficient)                             1.0            1.0            1.0            \n",
      "MCCI(Matthews correlation coefficient interpretation)             Very Strong    Very Strong    Very Strong    \n",
      "MCEN(Modified confusion entropy)                                  0              0              0              \n",
      "MK(Markedness)                                                    1.0            1.0            1.0            \n",
      "N(Condition negative)                                             67             71             72             \n",
      "NLR(Negative likelihood ratio)                                    0.0            0.0            0.0            \n",
      "NLRI(Negative likelihood ratio interpretation)                    Good           Good           Good           \n",
      "NPV(Negative predictive value)                                    1.0            1.0            1.0            \n",
      "OC(Overlap coefficient)                                           1.0            1.0            1.0            \n",
      "OOC(Otsuka-Ochiai coefficient)                                    1.0            1.0            1.0            \n",
      "OP(Optimized precision)                                           1.0            1.0            1.0            \n",
      "P(Condition positive or support)                                  38             34             33             \n",
      "PLR(Positive likelihood ratio)                                    None           None           None           \n",
      "PLRI(Positive likelihood ratio interpretation)                    None           None           None           \n",
      "POP(Population)                                                   105            105            105            \n",
      "PPV(Precision or positive predictive value)                       1.0            1.0            1.0            \n",
      "PRE(Prevalence)                                                   0.3619         0.32381        0.31429        \n",
      "Q(Yule Q - coefficient of colligation)                            None           None           None           \n",
      "QI(Yule Q interpretation)                                         None           None           None           \n",
      "RACC(Random accuracy)                                             0.13098        0.10485        0.09878        \n",
      "RACCU(Random accuracy unbiased)                                   0.13098        0.10485        0.09878        \n",
      "TN(True negative/correct rejection)                               67             71             72             \n",
      "TNR(Specificity or true negative rate)                            1.0            1.0            1.0            \n",
      "TON(Test outcome negative)                                        67             71             72             \n",
      "TOP(Test outcome positive)                                        38             34             33             \n",
      "TP(True positive/hit)                                             38             34             33             \n",
      "TPR(Sensitivity, recall, hit rate, or true positive rate)         1.0            1.0            1.0            \n",
      "Y(Youden index)                                                   1.0            1.0            1.0            \n",
      "dInd(Distance index)                                              0.0            0.0            0.0            \n",
      "sInd(Similarity index)                                            1.0            1.0            1.0            \n",
      "\n"
     ]
    }
   ],
   "source": [
    "cmOver = ConfusionMatrix(actual_vector=is_overfitting, predict_vector=Y_train_numpy)\n",
    "print(cmOver)"
   ]
  },
  {
   "cell_type": "markdown",
   "metadata": {},
   "source": [
    "**simpan sebagai joblib**"
   ]
  },
  {
   "cell_type": "code",
   "execution_count": 22,
   "metadata": {},
   "outputs": [],
   "source": [
    "import joblib"
   ]
  },
  {
   "cell_type": "code",
   "execution_count": 23,
   "metadata": {},
   "outputs": [
    {
     "data": {
      "text/plain": [
       "['finalized_model.sav']"
      ]
     },
     "execution_count": 23,
     "metadata": {},
     "output_type": "execute_result"
    }
   ],
   "source": [
    "# save the model to disk\n",
    "filename = 'finalized_model.sav'\n",
    "joblib.dump(rfc2, filename)"
   ]
  },
  {
   "cell_type": "markdown",
   "metadata": {},
   "source": [
    "load model"
   ]
  },
  {
   "cell_type": "code",
   "execution_count": 24,
   "metadata": {},
   "outputs": [
    {
     "name": "stdout",
     "output_type": "stream",
     "text": [
      "0.9111111111111111\n"
     ]
    }
   ],
   "source": [
    "# load the model from disk\n",
    "loaded_model = joblib.load(filename)\n",
    "result = loaded_model.score(X_test, Y_test)\n",
    "print(result)"
   ]
  },
  {
   "cell_type": "markdown",
   "metadata": {},
   "source": [
    "**test**"
   ]
  },
  {
   "cell_type": "code",
   "execution_count": 25,
   "metadata": {},
   "outputs": [],
   "source": [
    "labels = {1:\"Iris-setosa\", 2:\"Iris-versicolor\", 3:\"Iris-virginica\"}"
   ]
  },
  {
   "cell_type": "code",
   "execution_count": 26,
   "metadata": {},
   "outputs": [],
   "source": [
    "sepallength = 1\n",
    "sepalwidth  = 2\n",
    "petallength = 1\n",
    "petalwidth  = 1"
   ]
  },
  {
   "cell_type": "code",
   "execution_count": 27,
   "metadata": {},
   "outputs": [],
   "source": [
    "pred_args = np.array([sepallength,sepalwidth,petallength,petalwidth]).reshape(1, -1)"
   ]
  },
  {
   "cell_type": "code",
   "execution_count": 28,
   "metadata": {},
   "outputs": [],
   "source": [
    "model_prediction = loaded_model.predict(pred_args)[0]"
   ]
  },
  {
   "cell_type": "code",
   "execution_count": 29,
   "metadata": {},
   "outputs": [
    {
     "data": {
      "text/plain": [
       "'Versicolor'"
      ]
     },
     "execution_count": 29,
     "metadata": {},
     "output_type": "execute_result"
    }
   ],
   "source": [
    "model_prediction"
   ]
  },
  {
   "cell_type": "code",
   "execution_count": 30,
   "metadata": {},
   "outputs": [],
   "source": [
    "model_prediction_proba = loaded_model.predict_proba(pred_args)[0]"
   ]
  },
  {
   "cell_type": "code",
   "execution_count": 31,
   "metadata": {},
   "outputs": [
    {
     "data": {
      "text/plain": [
       "array([0.47, 0.53, 0.  ])"
      ]
     },
     "execution_count": 31,
     "metadata": {},
     "output_type": "execute_result"
    }
   ],
   "source": [
    "model_prediction_proba"
   ]
  },
  {
   "cell_type": "code",
   "execution_count": 32,
   "metadata": {},
   "outputs": [
    {
     "data": {
      "text/html": [
       "<div>\n",
       "<style scoped>\n",
       "    .dataframe tbody tr th:only-of-type {\n",
       "        vertical-align: middle;\n",
       "    }\n",
       "\n",
       "    .dataframe tbody tr th {\n",
       "        vertical-align: top;\n",
       "    }\n",
       "\n",
       "    .dataframe thead th {\n",
       "        text-align: right;\n",
       "    }\n",
       "</style>\n",
       "<table border=\"1\" class=\"dataframe\">\n",
       "  <thead>\n",
       "    <tr style=\"text-align: right;\">\n",
       "      <th></th>\n",
       "      <th>sepal.length</th>\n",
       "      <th>sepal.width</th>\n",
       "      <th>petal.length</th>\n",
       "      <th>petal.width</th>\n",
       "      <th>variety</th>\n",
       "    </tr>\n",
       "  </thead>\n",
       "  <tbody>\n",
       "    <tr>\n",
       "      <th>145</th>\n",
       "      <td>6.7</td>\n",
       "      <td>3.0</td>\n",
       "      <td>5.2</td>\n",
       "      <td>2.3</td>\n",
       "      <td>Virginica</td>\n",
       "    </tr>\n",
       "    <tr>\n",
       "      <th>146</th>\n",
       "      <td>6.3</td>\n",
       "      <td>2.5</td>\n",
       "      <td>5.0</td>\n",
       "      <td>1.9</td>\n",
       "      <td>Virginica</td>\n",
       "    </tr>\n",
       "    <tr>\n",
       "      <th>147</th>\n",
       "      <td>6.5</td>\n",
       "      <td>3.0</td>\n",
       "      <td>5.2</td>\n",
       "      <td>2.0</td>\n",
       "      <td>Virginica</td>\n",
       "    </tr>\n",
       "    <tr>\n",
       "      <th>148</th>\n",
       "      <td>6.2</td>\n",
       "      <td>3.4</td>\n",
       "      <td>5.4</td>\n",
       "      <td>2.3</td>\n",
       "      <td>Virginica</td>\n",
       "    </tr>\n",
       "    <tr>\n",
       "      <th>149</th>\n",
       "      <td>5.9</td>\n",
       "      <td>3.0</td>\n",
       "      <td>5.1</td>\n",
       "      <td>1.8</td>\n",
       "      <td>Virginica</td>\n",
       "    </tr>\n",
       "  </tbody>\n",
       "</table>\n",
       "</div>"
      ],
      "text/plain": [
       "     sepal.length  sepal.width  petal.length  petal.width    variety\n",
       "145           6.7          3.0           5.2          2.3  Virginica\n",
       "146           6.3          2.5           5.0          1.9  Virginica\n",
       "147           6.5          3.0           5.2          2.0  Virginica\n",
       "148           6.2          3.4           5.4          2.3  Virginica\n",
       "149           5.9          3.0           5.1          1.8  Virginica"
      ]
     },
     "execution_count": 32,
     "metadata": {},
     "output_type": "execute_result"
    }
   ],
   "source": [
    "iris.tail()"
   ]
  },
  {
   "cell_type": "code",
   "execution_count": null,
   "metadata": {},
   "outputs": [],
   "source": []
  }
 ],
 "metadata": {
  "kernelspec": {
   "display_name": "Python 3",
   "language": "python",
   "name": "python3"
  },
  "language_info": {
   "codemirror_mode": {
    "name": "ipython",
    "version": 3
   },
   "file_extension": ".py",
   "mimetype": "text/x-python",
   "name": "python",
   "nbconvert_exporter": "python",
   "pygments_lexer": "ipython3",
   "version": "3.7.7"
  }
 },
 "nbformat": 4,
 "nbformat_minor": 4
}
